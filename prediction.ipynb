{
 "cells": [
  {
   "cell_type": "code",
   "execution_count": 7,
   "metadata": {},
   "outputs": [],
   "source": [
    "# Step 1: Import Libraries and Load the Model\n",
    "import numpy as np\n",
    "import tensorflow as tf\n",
    "from tensorflow.keras.datasets import imdb\n",
    "from tensorflow.keras.preprocessing import sequence\n",
    "from tensorflow.keras.models import load_model"
   ]
  },
  {
   "cell_type": "code",
   "execution_count": 8,
   "metadata": {},
   "outputs": [],
   "source": [
    "\n",
    "# Load the IMDB dataset word index\n",
    "word_index = imdb.get_word_index()\n",
    "reverse_word_index = {value: key for key, value in word_index.items()}"
   ]
  },
  {
   "cell_type": "code",
   "execution_count": 9,
   "metadata": {},
   "outputs": [
    {
     "name": "stderr",
     "output_type": "stream",
     "text": [
      "WARNING:absl:Compiled the loaded model, but the compiled metrics have yet to be built. `model.compile_metrics` will be empty until you train or evaluate the model.\n"
     ]
    },
    {
     "data": {
      "text/html": [
       "<pre style=\"white-space:pre;overflow-x:auto;line-height:normal;font-family:Menlo,'DejaVu Sans Mono',consolas,'Courier New',monospace\"><span style=\"font-weight: bold\">Model: \"sequential\"</span>\n",
       "</pre>\n"
      ],
      "text/plain": [
       "\u001b[1mModel: \"sequential\"\u001b[0m\n"
      ]
     },
     "metadata": {},
     "output_type": "display_data"
    },
    {
     "data": {
      "text/html": [
       "<pre style=\"white-space:pre;overflow-x:auto;line-height:normal;font-family:Menlo,'DejaVu Sans Mono',consolas,'Courier New',monospace\">┏━━━━━━━━━━━━━━━━━━━━━━━━━━━━━━━━━┳━━━━━━━━━━━━━━━━━━━━━━━━┳━━━━━━━━━━━━━━━┓\n",
       "┃<span style=\"font-weight: bold\"> Layer (type)                    </span>┃<span style=\"font-weight: bold\"> Output Shape           </span>┃<span style=\"font-weight: bold\">       Param # </span>┃\n",
       "┡━━━━━━━━━━━━━━━━━━━━━━━━━━━━━━━━━╇━━━━━━━━━━━━━━━━━━━━━━━━╇━━━━━━━━━━━━━━━┩\n",
       "│ embedding (<span style=\"color: #0087ff; text-decoration-color: #0087ff\">Embedding</span>)           │ (<span style=\"color: #00af00; text-decoration-color: #00af00\">32</span>, <span style=\"color: #00af00; text-decoration-color: #00af00\">500</span>, <span style=\"color: #00af00; text-decoration-color: #00af00\">128</span>)         │     <span style=\"color: #00af00; text-decoration-color: #00af00\">1,280,000</span> │\n",
       "├─────────────────────────────────┼────────────────────────┼───────────────┤\n",
       "│ simple_rnn (<span style=\"color: #0087ff; text-decoration-color: #0087ff\">SimpleRNN</span>)          │ (<span style=\"color: #00af00; text-decoration-color: #00af00\">32</span>, <span style=\"color: #00af00; text-decoration-color: #00af00\">128</span>)              │        <span style=\"color: #00af00; text-decoration-color: #00af00\">32,896</span> │\n",
       "├─────────────────────────────────┼────────────────────────┼───────────────┤\n",
       "│ dense (<span style=\"color: #0087ff; text-decoration-color: #0087ff\">Dense</span>)                   │ (<span style=\"color: #00af00; text-decoration-color: #00af00\">32</span>, <span style=\"color: #00af00; text-decoration-color: #00af00\">1</span>)                │           <span style=\"color: #00af00; text-decoration-color: #00af00\">129</span> │\n",
       "└─────────────────────────────────┴────────────────────────┴───────────────┘\n",
       "</pre>\n"
      ],
      "text/plain": [
       "┏━━━━━━━━━━━━━━━━━━━━━━━━━━━━━━━━━┳━━━━━━━━━━━━━━━━━━━━━━━━┳━━━━━━━━━━━━━━━┓\n",
       "┃\u001b[1m \u001b[0m\u001b[1mLayer (type)                   \u001b[0m\u001b[1m \u001b[0m┃\u001b[1m \u001b[0m\u001b[1mOutput Shape          \u001b[0m\u001b[1m \u001b[0m┃\u001b[1m \u001b[0m\u001b[1m      Param #\u001b[0m\u001b[1m \u001b[0m┃\n",
       "┡━━━━━━━━━━━━━━━━━━━━━━━━━━━━━━━━━╇━━━━━━━━━━━━━━━━━━━━━━━━╇━━━━━━━━━━━━━━━┩\n",
       "│ embedding (\u001b[38;5;33mEmbedding\u001b[0m)           │ (\u001b[38;5;34m32\u001b[0m, \u001b[38;5;34m500\u001b[0m, \u001b[38;5;34m128\u001b[0m)         │     \u001b[38;5;34m1,280,000\u001b[0m │\n",
       "├─────────────────────────────────┼────────────────────────┼───────────────┤\n",
       "│ simple_rnn (\u001b[38;5;33mSimpleRNN\u001b[0m)          │ (\u001b[38;5;34m32\u001b[0m, \u001b[38;5;34m128\u001b[0m)              │        \u001b[38;5;34m32,896\u001b[0m │\n",
       "├─────────────────────────────────┼────────────────────────┼───────────────┤\n",
       "│ dense (\u001b[38;5;33mDense\u001b[0m)                   │ (\u001b[38;5;34m32\u001b[0m, \u001b[38;5;34m1\u001b[0m)                │           \u001b[38;5;34m129\u001b[0m │\n",
       "└─────────────────────────────────┴────────────────────────┴───────────────┘\n"
      ]
     },
     "metadata": {},
     "output_type": "display_data"
    },
    {
     "data": {
      "text/html": [
       "<pre style=\"white-space:pre;overflow-x:auto;line-height:normal;font-family:Menlo,'DejaVu Sans Mono',consolas,'Courier New',monospace\"><span style=\"font-weight: bold\"> Total params: </span><span style=\"color: #00af00; text-decoration-color: #00af00\">1,313,027</span> (5.01 MB)\n",
       "</pre>\n"
      ],
      "text/plain": [
       "\u001b[1m Total params: \u001b[0m\u001b[38;5;34m1,313,027\u001b[0m (5.01 MB)\n"
      ]
     },
     "metadata": {},
     "output_type": "display_data"
    },
    {
     "data": {
      "text/html": [
       "<pre style=\"white-space:pre;overflow-x:auto;line-height:normal;font-family:Menlo,'DejaVu Sans Mono',consolas,'Courier New',monospace\"><span style=\"font-weight: bold\"> Trainable params: </span><span style=\"color: #00af00; text-decoration-color: #00af00\">1,313,025</span> (5.01 MB)\n",
       "</pre>\n"
      ],
      "text/plain": [
       "\u001b[1m Trainable params: \u001b[0m\u001b[38;5;34m1,313,025\u001b[0m (5.01 MB)\n"
      ]
     },
     "metadata": {},
     "output_type": "display_data"
    },
    {
     "data": {
      "text/html": [
       "<pre style=\"white-space:pre;overflow-x:auto;line-height:normal;font-family:Menlo,'DejaVu Sans Mono',consolas,'Courier New',monospace\"><span style=\"font-weight: bold\"> Non-trainable params: </span><span style=\"color: #00af00; text-decoration-color: #00af00\">0</span> (0.00 B)\n",
       "</pre>\n"
      ],
      "text/plain": [
       "\u001b[1m Non-trainable params: \u001b[0m\u001b[38;5;34m0\u001b[0m (0.00 B)\n"
      ]
     },
     "metadata": {},
     "output_type": "display_data"
    },
    {
     "data": {
      "text/html": [
       "<pre style=\"white-space:pre;overflow-x:auto;line-height:normal;font-family:Menlo,'DejaVu Sans Mono',consolas,'Courier New',monospace\"><span style=\"font-weight: bold\"> Optimizer params: </span><span style=\"color: #00af00; text-decoration-color: #00af00\">2</span> (12.00 B)\n",
       "</pre>\n"
      ],
      "text/plain": [
       "\u001b[1m Optimizer params: \u001b[0m\u001b[38;5;34m2\u001b[0m (12.00 B)\n"
      ]
     },
     "metadata": {},
     "output_type": "display_data"
    }
   ],
   "source": [
    "# Load the pre-trained model with ReLU activation\n",
    "model = load_model('simple_rnn_imdb.h5')\n",
    "model.summary()"
   ]
  },
  {
   "cell_type": "code",
   "execution_count": 10,
   "metadata": {},
   "outputs": [
    {
     "data": {
      "text/plain": [
       "[array([[ 1.46179512e-01, -2.05016106e-01,  2.24096188e-03, ...,\n",
       "          1.34326175e-01,  2.44720094e-02,  2.48793110e-01],\n",
       "        [ 2.82924455e-02, -5.05791530e-02,  3.09554767e-02, ...,\n",
       "         -3.10984515e-02,  1.83970947e-02, -3.58591564e-02],\n",
       "        [-1.05083804e-04,  3.48184370e-02, -2.44938713e-02, ...,\n",
       "         -6.44008741e-02, -7.81255588e-02, -3.20096966e-04],\n",
       "        ...,\n",
       "        [-2.56511755e-02,  7.14942589e-02,  1.02688754e-02, ...,\n",
       "         -2.50893533e-02,  2.26676743e-02, -2.84923725e-02],\n",
       "        [ 3.88735756e-02,  7.42996484e-02, -8.04932043e-03, ...,\n",
       "         -1.44911958e-02, -9.62795597e-03, -8.27451516e-03],\n",
       "        [-1.96298417e-02,  1.78835560e-02,  3.61409108e-03, ...,\n",
       "          1.99697241e-02,  5.76681495e-02,  5.94184920e-02]], dtype=float32),\n",
       " array([[ 0.00317806, -0.02381729, -0.05684624, ...,  0.05268729,\n",
       "          0.03749401, -0.05944065],\n",
       "        [-0.00583495, -0.0312209 , -0.08352262, ..., -0.12457467,\n",
       "         -0.15798767, -0.01755117],\n",
       "        [-0.16244555,  0.00593398,  0.02864518, ...,  0.06195765,\n",
       "          0.05957138,  0.07409994],\n",
       "        ...,\n",
       "        [ 0.02059373, -0.09717423, -0.00672166, ..., -0.13502477,\n",
       "          0.16862011,  0.04139215],\n",
       "        [-0.12263003,  0.15932804, -0.0512737 , ..., -0.03277115,\n",
       "         -0.09269101, -0.07584395],\n",
       "        [-0.00495588, -0.1304593 , -0.17312944, ..., -0.11984314,\n",
       "         -0.00473524, -0.05430635]], dtype=float32),\n",
       " array([[ 0.00503686,  0.05772834, -0.02434043, ..., -0.10568307,\n",
       "          0.09168454,  0.09252352],\n",
       "        [ 0.01144494, -0.04272375, -0.14232579, ...,  0.01159657,\n",
       "          0.06278506,  0.16738288],\n",
       "        [-0.1451682 , -0.04496707,  0.08843868, ..., -0.03363102,\n",
       "         -0.0546949 , -0.02444489],\n",
       "        ...,\n",
       "        [-0.11150581, -0.0600281 ,  0.04896542, ...,  0.05010442,\n",
       "          0.01525929, -0.18241094],\n",
       "        [ 0.13822553,  0.13681227,  0.03404278, ..., -0.00573201,\n",
       "         -0.13075165,  0.12022003],\n",
       "        [ 0.15883893,  0.00591079,  0.11481648, ...,  0.09254339,\n",
       "         -0.23619129, -0.05905212]], dtype=float32),\n",
       " array([ 1.49304257e-03, -8.52963515e-03,  6.70616003e-03,  3.81768122e-02,\n",
       "        -9.42965224e-03, -1.92543399e-02, -1.72869656e-02, -9.21494886e-03,\n",
       "         2.27518696e-02, -1.23981088e-02, -1.24664353e-02, -5.35135018e-03,\n",
       "        -1.68577954e-02, -1.56633593e-02,  5.44399256e-03, -6.43502502e-03,\n",
       "        -5.32485126e-03, -2.54828855e-02,  2.22984273e-02, -4.88641253e-03,\n",
       "         4.03788649e-02, -1.03894752e-02, -7.40208896e-03, -1.12776505e-02,\n",
       "        -1.24975694e-02, -1.80736016e-02, -4.26801038e-04,  2.07897951e-03,\n",
       "         2.54886895e-02, -1.10501163e-02,  2.11427417e-02,  3.64796780e-02,\n",
       "        -7.26973359e-03, -1.90483369e-02, -9.30637028e-03,  1.98988505e-02,\n",
       "        -1.10161779e-02, -1.05581025e-03, -7.16130063e-03, -5.08992784e-02,\n",
       "        -4.03410662e-03, -8.14666785e-03,  9.38136131e-03, -1.50575051e-02,\n",
       "        -1.04348240e-02, -1.93956774e-02, -1.69049352e-02, -1.31033137e-02,\n",
       "        -3.09381110e-04,  1.79224368e-02,  8.71746894e-03, -1.42153038e-03,\n",
       "        -1.23259157e-03, -1.59314298e-03,  1.79984905e-02, -2.49895435e-02,\n",
       "        -7.25542428e-03, -1.05377967e-02,  2.34266557e-02, -7.95738399e-03,\n",
       "        -4.07695118e-03, -2.97291274e-03,  9.88899637e-03, -6.31761551e-03,\n",
       "         7.34656630e-03,  8.48812703e-03,  1.93258133e-02,  3.14458981e-02,\n",
       "        -3.96233751e-03, -3.64634651e-03,  1.09979874e-02, -1.10463938e-02,\n",
       "        -4.18844538e-05,  1.14766015e-02,  1.02188895e-02, -6.32780371e-03,\n",
       "        -2.58015674e-02,  2.86305207e-03, -4.98681422e-03, -2.75442260e-03,\n",
       "         3.27468403e-02, -7.90837966e-03, -2.63052224e-03,  1.87747441e-02,\n",
       "         2.17578728e-02,  8.83227140e-02, -6.93660928e-03, -1.19826542e-02,\n",
       "        -1.33625399e-02,  5.00784628e-03, -1.47806369e-02, -7.70117901e-03,\n",
       "         2.39499547e-02,  1.03742974e-02, -6.23642467e-03,  2.47661211e-02,\n",
       "        -2.23499425e-02, -2.10617902e-03, -5.32667735e-04, -7.95339141e-03,\n",
       "         1.43159796e-02, -7.29851658e-03, -7.76141789e-03, -1.49864107e-02,\n",
       "        -6.25433540e-03,  1.38192996e-03,  1.43456075e-03, -1.68526806e-02,\n",
       "        -1.46113837e-03, -4.14298242e-03, -5.13932295e-03,  5.07563062e-04,\n",
       "        -2.73692124e-02, -1.18903676e-02, -1.13647124e-02, -9.38436761e-03,\n",
       "         1.93361510e-02,  1.79778188e-02,  1.43846241e-03,  2.91488525e-02,\n",
       "        -2.53549181e-02, -8.12572241e-03,  1.82414092e-02,  1.82563823e-03,\n",
       "        -2.64638831e-04, -1.65839382e-02, -9.97914188e-03,  3.75995738e-03],\n",
       "       dtype=float32),\n",
       " array([[-0.01769127],\n",
       "        [ 0.13661432],\n",
       "        [ 0.03589179],\n",
       "        [-0.17777911],\n",
       "        [-0.04437344],\n",
       "        [ 0.74430174],\n",
       "        [ 0.22955932],\n",
       "        [ 0.21122512],\n",
       "        [-0.09953311],\n",
       "        [ 0.42245033],\n",
       "        [ 0.17011759],\n",
       "        [-0.13302815],\n",
       "        [ 0.39700907],\n",
       "        [ 0.22839582],\n",
       "        [ 0.25777695],\n",
       "        [ 0.20556894],\n",
       "        [ 0.09037063],\n",
       "        [ 0.05096994],\n",
       "        [-0.14594457],\n",
       "        [ 0.08762518],\n",
       "        [-0.2043454 ],\n",
       "        [ 0.05278483],\n",
       "        [-0.14363614],\n",
       "        [ 0.03813843],\n",
       "        [ 0.16727868],\n",
       "        [ 0.18493126],\n",
       "        [-0.6945881 ],\n",
       "        [-0.1703414 ],\n",
       "        [ 1.5933386 ],\n",
       "        [ 0.17207463],\n",
       "        [-0.16339283],\n",
       "        [-0.05643708],\n",
       "        [ 0.09982526],\n",
       "        [ 0.07225738],\n",
       "        [ 0.2990608 ],\n",
       "        [-0.06009399],\n",
       "        [ 0.08804807],\n",
       "        [ 0.18203223],\n",
       "        [ 0.10114599],\n",
       "        [ 0.21755363],\n",
       "        [ 0.51618105],\n",
       "        [ 0.20664303],\n",
       "        [-0.20585373],\n",
       "        [ 0.12102479],\n",
       "        [ 0.644097  ],\n",
       "        [ 0.10926737],\n",
       "        [ 0.21406443],\n",
       "        [-0.20571968],\n",
       "        [ 0.07018464],\n",
       "        [ 0.6246416 ],\n",
       "        [ 0.02931933],\n",
       "        [ 0.0529967 ],\n",
       "        [ 0.10473021],\n",
       "        [-0.22060712],\n",
       "        [-0.08214411],\n",
       "        [ 1.0026916 ],\n",
       "        [ 0.05308763],\n",
       "        [ 0.06070141],\n",
       "        [-0.0458044 ],\n",
       "        [ 0.19969866],\n",
       "        [ 0.21237911],\n",
       "        [-0.02009307],\n",
       "        [-0.15851906],\n",
       "        [ 0.16445029],\n",
       "        [-0.15722656],\n",
       "        [ 0.13833143],\n",
       "        [-0.11867128],\n",
       "        [-0.13161306],\n",
       "        [ 0.07419267],\n",
       "        [-0.19929616],\n",
       "        [ 0.3411833 ],\n",
       "        [ 0.18088615],\n",
       "        [ 0.14189701],\n",
       "        [-0.11505761],\n",
       "        [ 0.01319112],\n",
       "        [ 0.21256168],\n",
       "        [-0.07576121],\n",
       "        [ 0.01928211],\n",
       "        [-0.01109462],\n",
       "        [-0.1364529 ],\n",
       "        [-0.02519208],\n",
       "        [ 0.10768358],\n",
       "        [ 0.14054923],\n",
       "        [-0.1085156 ],\n",
       "        [-0.01665598],\n",
       "        [ 0.35821712],\n",
       "        [-0.07534439],\n",
       "        [ 0.04968236],\n",
       "        [-0.63551337],\n",
       "        [-0.22869925],\n",
       "        [-0.02647789],\n",
       "        [ 0.12542908],\n",
       "        [-0.19632515],\n",
       "        [ 0.0873022 ],\n",
       "        [ 0.72256607],\n",
       "        [-0.07285793],\n",
       "        [ 0.40521663],\n",
       "        [ 0.683107  ],\n",
       "        [-0.21018927],\n",
       "        [ 0.05047057],\n",
       "        [-0.00387228],\n",
       "        [-0.483939  ],\n",
       "        [ 0.1056276 ],\n",
       "        [-0.03961528],\n",
       "        [ 0.04097081],\n",
       "        [-0.19045804],\n",
       "        [ 0.45220998],\n",
       "        [ 0.88698334],\n",
       "        [ 0.07373974],\n",
       "        [ 0.2686571 ],\n",
       "        [-0.1962007 ],\n",
       "        [-0.18932353],\n",
       "        [ 0.14531682],\n",
       "        [-0.13547282],\n",
       "        [ 0.2096249 ],\n",
       "        [ 0.0335775 ],\n",
       "        [ 0.12778434],\n",
       "        [-0.19133364],\n",
       "        [ 0.22167394],\n",
       "        [-0.10512519],\n",
       "        [ 0.13402702],\n",
       "        [ 0.64587164],\n",
       "        [-0.22116692],\n",
       "        [-0.16841373],\n",
       "        [ 1.1008023 ],\n",
       "        [-0.06323436],\n",
       "        [ 0.2110165 ],\n",
       "        [ 0.8141924 ]], dtype=float32),\n",
       " array([-0.01465229], dtype=float32)]"
      ]
     },
     "execution_count": 10,
     "metadata": {},
     "output_type": "execute_result"
    }
   ],
   "source": [
    "model.get_weights()"
   ]
  },
  {
   "cell_type": "code",
   "execution_count": 11,
   "metadata": {},
   "outputs": [],
   "source": [
    "# Step 2: Helper Functions\n",
    "# Function to decode reviews\n",
    "def decode_review(encoded_review):\n",
    "    return ' '.join([reverse_word_index.get(i - 3, '?') for i in encoded_review])\n",
    "\n",
    "# Function to preprocess user input\n",
    "def preprocess_text(text):\n",
    "    words = text.lower().split()\n",
    "    encoded_review = [word_index.get(word, 2) + 3 for word in words]\n",
    "    padded_review = sequence.pad_sequences([encoded_review], maxlen=500)\n",
    "    return padded_review"
   ]
  },
  {
   "cell_type": "code",
   "execution_count": 12,
   "metadata": {},
   "outputs": [],
   "source": [
    "### Prediction  function\n",
    "\n",
    "def predict_sentiment(review):\n",
    "    preprocessed_input=preprocess_text(review)\n",
    "\n",
    "    prediction=model.predict(preprocessed_input)\n",
    "\n",
    "    sentiment = 'Positive' if prediction[0][0] > 0.5 else 'Negative'\n",
    "    \n",
    "    return sentiment, prediction[0][0]\n",
    "\n"
   ]
  },
  {
   "cell_type": "code",
   "execution_count": 13,
   "metadata": {},
   "outputs": [
    {
     "name": "stdout",
     "output_type": "stream",
     "text": [
      "\u001b[1m1/1\u001b[0m \u001b[32m━━━━━━━━━━━━━━━━━━━━\u001b[0m\u001b[37m\u001b[0m \u001b[1m0s\u001b[0m 215ms/step\n",
      "Review: This movie was fantastic! The acting was great and the plot was thrilling.\n",
      "Sentiment: Positive\n",
      "Prediction Score: 0.8302268981933594\n"
     ]
    }
   ],
   "source": [
    "# Step 4: User Input and Prediction\n",
    "# Example review for prediction\n",
    "example_review = \"This movie was fantastic! The acting was great and the plot was thrilling.\"\n",
    "\n",
    "sentiment,score=predict_sentiment(example_review)\n",
    "\n",
    "print(f'Review: {example_review}')\n",
    "print(f'Sentiment: {sentiment}')\n",
    "print(f'Prediction Score: {score}')"
   ]
  },
  {
   "cell_type": "code",
   "execution_count": null,
   "metadata": {},
   "outputs": [],
   "source": []
  },
  {
   "cell_type": "code",
   "execution_count": null,
   "metadata": {},
   "outputs": [],
   "source": []
  },
  {
   "cell_type": "code",
   "execution_count": null,
   "metadata": {},
   "outputs": [],
   "source": []
  },
  {
   "cell_type": "code",
   "execution_count": null,
   "metadata": {},
   "outputs": [],
   "source": []
  }
 ],
 "metadata": {
  "kernelspec": {
   "display_name": "Python 3",
   "language": "python",
   "name": "python3"
  },
  "language_info": {
   "codemirror_mode": {
    "name": "ipython",
    "version": 3
   },
   "file_extension": ".py",
   "mimetype": "text/x-python",
   "name": "python",
   "nbconvert_exporter": "python",
   "pygments_lexer": "ipython3",
   "version": "3.11.3"
  }
 },
 "nbformat": 4,
 "nbformat_minor": 2
}
